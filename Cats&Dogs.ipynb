{
 "cells": [
  {
   "cell_type": "markdown",
   "id": "8ee43dc7",
   "metadata": {},
   "source": [
    "# CCN - Dogs & Cats"
   ]
  },
  {
   "cell_type": "code",
   "execution_count": 2,
   "id": "942c5bfa",
   "metadata": {
    "scrolled": false
   },
   "outputs": [
    {
     "name": "stdout",
     "output_type": "stream",
     "text": [
      "Epoch 1/10\n",
      "32/32 [==============================] - 27s 756ms/step - loss: 1.5498 - accuracy: 0.5300\n",
      "Epoch 2/10\n",
      "32/32 [==============================] - 24s 752ms/step - loss: 0.6739 - accuracy: 0.6520\n",
      "Epoch 3/10\n",
      "32/32 [==============================] - 27s 843ms/step - loss: 0.4721 - accuracy: 0.7730\n",
      "Epoch 4/10\n",
      "32/32 [==============================] - 28s 872ms/step - loss: 0.4436 - accuracy: 0.8060\n",
      "Epoch 5/10\n",
      "32/32 [==============================] - 30s 940ms/step - loss: 0.3969 - accuracy: 0.8210\n",
      "Epoch 6/10\n",
      "32/32 [==============================] - 31s 967ms/step - loss: 0.2825 - accuracy: 0.8800\n",
      "Epoch 7/10\n",
      "32/32 [==============================] - 36s 1s/step - loss: 0.2080 - accuracy: 0.9120\n",
      "Epoch 8/10\n",
      "32/32 [==============================] - 35s 1s/step - loss: 0.2070 - accuracy: 0.9150\n",
      "Epoch 9/10\n",
      "32/32 [==============================] - 32s 1s/step - loss: 0.1624 - accuracy: 0.9270\n",
      "Epoch 10/10\n",
      "32/32 [==============================] - 32s 986ms/step - loss: 0.1130 - accuracy: 0.9590\n"
     ]
    },
    {
     "data": {
      "text/plain": [
       "<keras.callbacks.History at 0x1519ccbb0>"
      ]
     },
     "execution_count": 2,
     "metadata": {},
     "output_type": "execute_result"
    }
   ],
   "source": [
    "# Dependencies\n",
    "import os\n",
    "import numpy as np\n",
    "import pandas as pd\n",
    "from PIL import Image\n",
    "import tensorflow as tf\n",
    "from keras.models import Sequential\n",
    "from keras.layers import Conv2D, MaxPooling2D, Flatten, Dense, BatchNormalization\n",
    "from keras.layers import Dropout\n",
    "from tensorflow.keras.losses import BinaryCrossentropy\n",
    "\n",
    "\n",
    "# Set the paths to the image folders\n",
    "dog_folder = 'dog'\n",
    "cat_folder = 'cat'\n",
    "test_folder = 'test'\n",
    "\n",
    "# Set the image size\n",
    "image_size = (64, 64)\n",
    "\n",
    "# Function to load and preprocess the images\n",
    "def preprocess_images(folder_path):\n",
    "    images = []\n",
    "    labels = []\n",
    "    for filename in os.listdir(os.path.join(\"Resources\", folder_path)):\n",
    "        if filename.endswith(('.png', 'jpg', 'jpeg')):\n",
    "            img = Image.open(os.path.join(\"Resources\", folder_path, filename))\n",
    "            img = img.resize(image_size)\n",
    "            img = np.array(img)\n",
    "            images.append(img)\n",
    "            labels.append(folder_path)\n",
    "    return np.array(images), np.array(labels)\n",
    "\n",
    "# Load and preprocess the training images\n",
    "dog_images, dog_labels = preprocess_images(dog_folder)\n",
    "cat_images, cat_labels = preprocess_images(cat_folder)\n",
    "\n",
    "# Combine the images and labels\n",
    "images = np.concatenate((dog_images, cat_images))\n",
    "labels = np.concatenate((dog_labels, cat_labels))\n",
    "\n",
    "# Shuffle the data\n",
    "shuffle_indices = np.random.permutation(len(images))\n",
    "images = images[shuffle_indices]\n",
    "labels = labels[shuffle_indices]\n",
    "\n",
    "# Convert labels to numerical values\n",
    "label_mapping = {dog_folder: 0, cat_folder: 1}\n",
    "numeric_labels = np.array([label_mapping[label] for label in labels])\n",
    "\n",
    "# Create the CNN model\n",
    "model = Sequential()\n",
    "\n",
    "# Convolutional Layers\n",
    "model.add(Conv2D(64, kernel_size=(3, 3), activation='relu', input_shape=(image_size[0], image_size[1], 3)))\n",
    "model.add(BatchNormalization())\n",
    "model.add(MaxPooling2D(pool_size=(2, 2)))\n",
    "\n",
    "model.add(Conv2D(128, kernel_size=(3, 3), activation='relu'))\n",
    "model.add(BatchNormalization())\n",
    "model.add(MaxPooling2D(pool_size=(2, 2)))\n",
    "\n",
    "model.add(Conv2D(256, kernel_size=(3, 3), activation='relu'))\n",
    "model.add(BatchNormalization())\n",
    "model.add(MaxPooling2D(pool_size=(2, 2)))\n",
    "\n",
    "# Flattening\n",
    "model.add(Flatten())\n",
    "\n",
    "# Fully Connected Layers\n",
    "model.add(Dense(1024, activation='relu'))\n",
    "model.add(Dense(512, activation='relu'))\n",
    "model.add(Dense(256, activation='relu'))\n",
    "\n",
    "# Output Layer\n",
    "model.add(Dense(1, activation='linear'))\n",
    "\n",
    "\n",
    "\n",
    "# Compile the model\n",
    "model.compile(loss = BinaryCrossentropy(from_logits = True), optimizer='adam', metrics=['accuracy'])\n",
    "\n",
    "# Train the model\n",
    "model.fit(images, numeric_labels, epochs=10, batch_size=32)\n"
   ]
  },
  {
   "cell_type": "code",
   "execution_count": 11,
   "id": "f5c9253a",
   "metadata": {},
   "outputs": [
    {
     "name": "stdout",
     "output_type": "stream",
     "text": [
      "1/1 [==============================] - 0s 57ms/step\n"
     ]
    },
    {
     "data": {
      "text/plain": [
       "Prediction\n",
       "dog    2\n",
       "Name: Prediction, dtype: int64"
      ]
     },
     "execution_count": 11,
     "metadata": {},
     "output_type": "execute_result"
    }
   ],
   "source": [
    "# Load and preprocess the test images\n",
    "test_images, test_labels = preprocess_images(test_folder)\n",
    "\n",
    "# Predict the labels for test images\n",
    "predictions = model.predict(test_images)\n",
    "predictions = tf.math.sigmoid(predictions)\n",
    "predicted_labels = [dog_folder if pred < 0.5 else cat_folder for pred in predictions]\n",
    "\n",
    "# Create a table with the predictions\n",
    "results = pd.DataFrame({'Image': [file  for file in os.listdir(os.path.join(\"Resources\", test_folder)) if file.endswith(('.png','.jpeg', '.jpg'))], 'Prediction': predicted_labels})\n",
    "\n",
    "# Display the table\n",
    "results.groupby(['Prediction'])['Prediction'].count()"
   ]
  },
  {
   "cell_type": "code",
   "execution_count": 12,
   "id": "25423735",
   "metadata": {},
   "outputs": [
    {
     "data": {
      "text/html": [
       "<div>\n",
       "<style scoped>\n",
       "    .dataframe tbody tr th:only-of-type {\n",
       "        vertical-align: middle;\n",
       "    }\n",
       "\n",
       "    .dataframe tbody tr th {\n",
       "        vertical-align: top;\n",
       "    }\n",
       "\n",
       "    .dataframe thead th {\n",
       "        text-align: right;\n",
       "    }\n",
       "</style>\n",
       "<table border=\"1\" class=\"dataframe\">\n",
       "  <thead>\n",
       "    <tr style=\"text-align: right;\">\n",
       "      <th></th>\n",
       "      <th>Image</th>\n",
       "      <th>Prediction</th>\n",
       "    </tr>\n",
       "  </thead>\n",
       "  <tbody>\n",
       "    <tr>\n",
       "      <th>0</th>\n",
       "      <td>Unknown-1.jpeg</td>\n",
       "      <td>dog</td>\n",
       "    </tr>\n",
       "    <tr>\n",
       "      <th>1</th>\n",
       "      <td>Unknown.jpeg</td>\n",
       "      <td>dog</td>\n",
       "    </tr>\n",
       "  </tbody>\n",
       "</table>\n",
       "</div>"
      ],
      "text/plain": [
       "            Image Prediction\n",
       "0  Unknown-1.jpeg        dog\n",
       "1    Unknown.jpeg        dog"
      ]
     },
     "execution_count": 12,
     "metadata": {},
     "output_type": "execute_result"
    }
   ],
   "source": [
    "results"
   ]
  }
 ],
 "metadata": {
  "kernelspec": {
   "display_name": "Python 3 (ipykernel)",
   "language": "python",
   "name": "python3"
  },
  "language_info": {
   "codemirror_mode": {
    "name": "ipython",
    "version": 3
   },
   "file_extension": ".py",
   "mimetype": "text/x-python",
   "name": "python",
   "nbconvert_exporter": "python",
   "pygments_lexer": "ipython3",
   "version": "3.9.6"
  }
 },
 "nbformat": 4,
 "nbformat_minor": 5
}
